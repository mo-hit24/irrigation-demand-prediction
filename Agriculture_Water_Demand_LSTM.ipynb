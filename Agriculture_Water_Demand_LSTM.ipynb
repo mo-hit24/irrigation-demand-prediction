{
  "cells": [
    {
      "cell_type": "markdown",
      "metadata": {
        "id": "EBNlntk6h5kD"
      },
      "source": [
        "# I. Agriculture Water Demand Prediction using LSTM"
      ]
    },
    {
      "cell_type": "markdown",
      "metadata": {
        "id": "UyQ4e8q4jdHO"
      },
      "source": [
        "In this section, we use an LSTM model to use last three years of Crop Sown-Area (`crop_area_ha`), Irrigated Area (`irrigated_area_ha`), Actual Rainfall (`actual_rainfall_mm`), Normal Rainfall (`normal_rainfall_mm`) data to predict `water_demand_m3`.\n",
        "\n",
        "We load, clean, and preprocess the data before generating sequences for the model. We then create Data Loaders and define the model architecture. Later, we evaluate the model on the test set and generate metrics on the performance in terms of MAE (Mean Absolute Error) and RMSE (Root Mean Square Error).\n",
        "\n",
        "Finally, we generate synthetic drought scenarios by reducing the `actual_rainfall_mm` to a fraction of its original value and getting the impact on water demand."
      ]
    },
    {
      "cell_type": "markdown",
      "metadata": {
        "id": "9jtld3BSkene"
      },
      "source": [
        "## A. Data Preprocessing for LSTM"
      ]
    },
    {
      "cell_type": "markdown",
      "metadata": {
        "id": "FB9KB8LxgZSF"
      },
      "source": [
        "### 1. Import Libraries and Define Parameters"
      ]
    },
    {
      "cell_type": "code",
      "execution_count": 3,
      "metadata": {
        "id": "0H_8NZGrgdI6"
      },
      "outputs": [],
      "source": [
        "import json\n",
        "import pandas as pd\n",
        "import numpy as np\n",
        "\n",
        "from sklearn.preprocessing import StandardScaler\n",
        "from sklearn.model_selection import train_test_split"
      ]
    },
    {
      "cell_type": "code",
      "execution_count": null,
      "metadata": {
        "id": "tzvcG8_4NAB0"
      },
      "outputs": [],
      "source": [
        "DATAFILE_PATH = 'datafile.csv'"
      ]
    },
    {
      "cell_type": "markdown",
      "metadata": {
        "id": "LzHN9IQhgPTG"
      },
      "source": [
        "### 2. Load and Clean CSV"
      ]
    },
    {
      "cell_type": "code",
      "execution_count": 5,
      "metadata": {
        "id": "e56BGrsfgGfX"
      },
      "outputs": [],
      "source": [
        "df = pd.read_csv(DATAFILE_PATH)\n",
        "df.columns = [c.strip() for c in df.columns]\n",
        "\n",
        "dropped_cols = ['production_tonnes', 'yield_t_ha', 'irrigation_fraction']\n",
        "df = df.drop(columns=dropped_cols)\n",
        "\n",
        "num_cols = [\n",
        "    'crop_area_ha','irrigated_area_ha',\n",
        "    'actual_rainfall_mm','normal_rainfall_mm',\n",
        "    'cwr_m3_per_ha'\n",
        "]\n",
        "for c in num_cols + ['water_demand_m3']:\n",
        "    df[c] = pd.to_numeric(df[c], errors='coerce')\n",
        "\n",
        "df['year'] = pd.to_numeric(df['year'], errors='coerce')"
      ]
    },
    {
      "cell_type": "markdown",
      "metadata": {
        "id": "zu5qqmyVgkxS"
      },
      "source": [
        "### 3. Feature Engineering"
      ]
    },
    {
      "cell_type": "markdown",
      "metadata": {
        "id": "b_QauvKku0_A"
      },
      "source": [
        "We calculate the `rainfall_anomaly_mm` as the absolute difference between `actual_rainfall_mm` and `normal_rainfall_mm`. We also convert `state_id` and `crop_id` into an embedding that will also be passed to the model."
      ]
    },
    {
      "cell_type": "code",
      "execution_count": 6,
      "metadata": {
        "id": "SvaoFdGYgnQa"
      },
      "outputs": [],
      "source": [
        "# rainfall anomaly\n",
        "df['rainfall_anomaly_mm'] = df['actual_rainfall_mm'] - df['normal_rainfall_mm']\n",
        "num_cols.append('rainfall_anomaly_mm')\n",
        "\n",
        "# categorical encodings\n",
        "state2id = {s:i for i,s in enumerate(sorted(df['state'].unique()))}\n",
        "crop2id = {s:i for i,s in enumerate(sorted(df['crop'].unique()))}\n",
        "df['state_id'] = df['state'].map(state2id)\n",
        "df['crop_id'] = df['crop'].map(crop2id)"
      ]
    },
    {
      "cell_type": "markdown",
      "metadata": {
        "id": "Ui13veQrgwEP"
      },
      "source": [
        "### 4. Handle Duplicates in the DataFrame"
      ]
    },
    {
      "cell_type": "code",
      "execution_count": 7,
      "metadata": {
        "id": "H9bV2qS7g0rH"
      },
      "outputs": [],
      "source": [
        "collapsed_df = df.groupby(['state','year','crop'], as_index=False).agg({\n",
        "    'crop_area_ha':'first',\n",
        "    'irrigated_area_ha':'mean',\n",
        "    'actual_rainfall_mm':'mean',\n",
        "    'normal_rainfall_mm':'mean',\n",
        "    'cwr_m3_per_ha':'mean',\n",
        "    'water_demand_m3':'mean',\n",
        "    'drought_flag':'max',\n",
        "    'rainfall_anomaly_mm':'mean',\n",
        "    'state_id':'first',\n",
        "    'crop_id':'first'\n",
        "})"
      ]
    },
    {
      "cell_type": "markdown",
      "metadata": {
        "id": "OKaKeKmxjhbH"
      },
      "source": [
        "### 6. Train - Validation - Test Split"
      ]
    },
    {
      "cell_type": "code",
      "execution_count": 8,
      "metadata": {
        "id": "7bjbDTZ-oW06"
      },
      "outputs": [],
      "source": [
        "VAL_SIZE = 0.2\n",
        "TEST_SIZE = 0.25\n",
        "SEED = 42\n",
        "\n",
        "train_df, test_df = train_test_split(collapsed_df, test_size=TEST_SIZE, random_state=SEED)\n",
        "train_df, val_df  = train_test_split(train_df, test_size=VAL_SIZE, random_state=SEED)"
      ]
    },
    {
      "cell_type": "markdown",
      "metadata": {
        "id": "fy_IGFgVhBNS"
      },
      "source": [
        "### 7. Scale the Data to avoid Magnitude Bias"
      ]
    },
    {
      "cell_type": "markdown",
      "metadata": {
        "id": "ERpWG1Z93SDJ"
      },
      "source": [
        "The target `water_demand_m3` is scaled separately from the other features to prevent data leakage to the model. The scaler is kept in memory to perform inverse transformations on the predictions generated by the model. The other feature columns are scaled together using `StandardScaler`."
      ]
    },
    {
      "cell_type": "code",
      "execution_count": 9,
      "metadata": {
        "id": "IECObbaZhTZH"
      },
      "outputs": [],
      "source": [
        "non_scale_cols = [\"state\",\"year\",\"crop\",\"drought_flag\",\"state_id\",\"crop_id\", \"water_demand_m3\"]\n",
        "\n",
        "scaler = StandardScaler()\n",
        "scaler.fit(train_df[num_cols])\n",
        "\n",
        "target_scaler = StandardScaler()\n",
        "target_scaler.fit(train_df[[\"water_demand_m3\"]])\n",
        "\n",
        "train_df[[\"water_demand_m3\"]] = pd.DataFrame(\n",
        "    target_scaler.transform(train_df[[\"water_demand_m3\"]]),\n",
        "    index=train_df.index,\n",
        "    columns=[\"water_demand_m3\"]\n",
        ")\n",
        "\n",
        "val_df[[\"water_demand_m3\"]] = pd.DataFrame(\n",
        "    target_scaler.transform(val_df[[\"water_demand_m3\"]]),\n",
        "    index=val_df.index,\n",
        "    columns=[\"water_demand_m3\"]\n",
        ")\n",
        "\n",
        "test_df[[\"water_demand_m3\"]] = pd.DataFrame(\n",
        "    target_scaler.transform(test_df[[\"water_demand_m3\"]]),\n",
        "    index=test_df.index,\n",
        "    columns=[\"water_demand_m3\"]\n",
        ")\n",
        "\n",
        "def scale_and_merge(df, scaler, scale_cols, non_scale_cols):\n",
        "    scaled = scaler.transform(df[scale_cols])\n",
        "    scaled_df = pd.DataFrame(scaled, columns=num_cols, index=df.index)\n",
        "    return pd.concat([scaled_df, df[non_scale_cols]], axis=1)\n",
        "\n",
        "train_scaled = scale_and_merge(train_df, scaler, num_cols, non_scale_cols)\n",
        "val_scaled   = scale_and_merge(val_df, scaler, num_cols, non_scale_cols)\n",
        "test_scaled  = scale_and_merge(test_df, scaler, num_cols, non_scale_cols)"
      ]
    },
    {
      "cell_type": "markdown",
      "metadata": {
        "id": "awigItLWiVRH"
      },
      "source": [
        "### 8. Generate Sequences"
      ]
    },
    {
      "cell_type": "markdown",
      "metadata": {
        "id": "bcW7I-GavGnd"
      },
      "source": [
        "Here we generate the time-series that will be fed to the LSTM to give it temporal-awareness."
      ]
    },
    {
      "cell_type": "code",
      "execution_count": 10,
      "metadata": {
        "id": "Ytu2GF4eoRb0"
      },
      "outputs": [],
      "source": [
        "CONTEXT = 3  # previous data (number of years) that the model should use to predict future demand\n",
        "HORIZON = 1"
      ]
    },
    {
      "cell_type": "code",
      "execution_count": 11,
      "metadata": {
        "id": "xH4PYeSJg9VS"
      },
      "outputs": [],
      "source": [
        "def build_sequences(df_in, group_cols=['state','crop'], time_col='year',\n",
        "                    T=CONTEXT, H=HORIZON, target_col='water_demand_m3', feature_cols=None):\n",
        "    sequences = []\n",
        "    if feature_cols is None:\n",
        "      feature_cols = [c for c in df_in.select_dtypes(include=[np.number]).columns if c != target_col]\n",
        "\n",
        "    for _, gdf in df_in.groupby(group_cols):\n",
        "        gdf = gdf.sort_values(time_col)\n",
        "        if feature_cols is None:\n",
        "            feature_cols = [c for c in gdf.select_dtypes(include=[np.number]).columns if c not in [target_col]]\n",
        "        arr_feat = gdf[feature_cols].to_numpy(dtype=float)\n",
        "        arr_target = gdf[target_col].to_numpy(dtype=float)\n",
        "        years = gdf[time_col].to_numpy()\n",
        "\n",
        "        for i in range(T, len(gdf)-H+1):\n",
        "            Xpast = arr_feat[i-T:i]\n",
        "            Yfuture = arr_target[i:i+H]\n",
        "            sequences.append({\n",
        "                \"Xpast\": Xpast,\n",
        "                \"Yfuture\": Yfuture,\n",
        "                \"start_year\": int(years[i-T]),\n",
        "                \"end_year\": int(years[i+H-1])\n",
        "            })\n",
        "    return sequences"
      ]
    },
    {
      "cell_type": "code",
      "execution_count": 12,
      "metadata": {
        "colab": {
          "base_uri": "https://localhost:8080/"
        },
        "id": "U3uOmPi9dxAQ",
        "outputId": "748f5ed2-ba87-41d1-bbff-9e816755451c"
      },
      "outputs": [
        {
          "name": "stdout",
          "output_type": "stream",
          "text": [
            "Train seqs: 1649, Val seqs: 272, Test seqs: 571\n"
          ]
        }
      ],
      "source": [
        "feature_cols = [\n",
        "    'state_id','crop_id','crop_area_ha','irrigated_area_ha', 'drought_flag',\n",
        "    'actual_rainfall_mm','normal_rainfall_mm','rainfall_anomaly_mm','cwr_m3_per_ha'\n",
        "]\n",
        "\n",
        "# Build sequences per split\n",
        "train_sequences = build_sequences(train_scaled, feature_cols=feature_cols)\n",
        "val_sequences   = build_sequences(val_scaled, feature_cols=feature_cols)\n",
        "test_sequences  = build_sequences(test_scaled, feature_cols=feature_cols)\n",
        "\n",
        "print(f\"Train seqs: {len(train_sequences)}, Val seqs: {len(val_sequences)}, Test seqs: {len(test_sequences)}\")\n"
      ]
    },
    {
      "cell_type": "markdown",
      "metadata": {
        "id": "V2A7sRdnkRL_"
      },
      "source": [
        "## B. LSTM Model"
      ]
    },
    {
      "cell_type": "markdown",
      "metadata": {
        "id": "OPVocdazkkhx"
      },
      "source": [
        "### 1. Import Libraries"
      ]
    },
    {
      "cell_type": "code",
      "execution_count": 13,
      "metadata": {
        "id": "c2BnwNMCknHG"
      },
      "outputs": [],
      "source": [
        "import torch\n",
        "import torch.nn as nn\n",
        "import matplotlib.pyplot as plt\n",
        "\n",
        "import torch.optim as optim\n",
        "import torch.optim.lr_scheduler as lr_scheduler\n",
        "from torch.utils.data import DataLoader, TensorDataset"
      ]
    },
    {
      "cell_type": "markdown",
      "metadata": {
        "id": "uAvNgKz9kpqG"
      },
      "source": [
        "### 2. Convert numpy arrays to PyTorch tensors"
      ]
    },
    {
      "cell_type": "code",
      "execution_count": 14,
      "metadata": {
        "colab": {
          "base_uri": "https://localhost:8080/"
        },
        "id": "Jr14BXjnks_t",
        "outputId": "e88f450b-3c04-4f75-f47b-c8bf0a99661f"
      },
      "outputs": [
        {
          "name": "stdout",
          "output_type": "stream",
          "text": [
            "X_train_t shape: torch.Size([1649, 3, 9])\n",
            "y_train_t shape: torch.Size([1649, 1])\n"
          ]
        }
      ],
      "source": [
        "def sequences_to_arrays(sequences, H=1):\n",
        "    X = np.stack([s['Xpast'] for s in sequences])\n",
        "    y = np.stack([s['Yfuture'] for s in sequences])\n",
        "    return X, y\n",
        "\n",
        "X_train, y_train = sequences_to_arrays(train_sequences)\n",
        "X_val, y_val     = sequences_to_arrays(val_sequences)\n",
        "X_test, y_test   = sequences_to_arrays(test_sequences)\n",
        "\n",
        "# Convert to PyTorch tensors\n",
        "X_train_t = torch.tensor(X_train, dtype=torch.float32)\n",
        "y_train_t = torch.tensor(y_train, dtype=torch.float32)\n",
        "X_val_t   = torch.tensor(X_val, dtype=torch.float32)\n",
        "y_val_t   = torch.tensor(y_val, dtype=torch.float32)\n",
        "X_test_t  = torch.tensor(X_test, dtype=torch.float32)\n",
        "y_test_t  = torch.tensor(y_test, dtype=torch.float32)\n",
        "\n",
        "print(\"X_train_t shape:\", X_train_t.shape)\n",
        "print(\"y_train_t shape:\", y_train_t.shape)\n"
      ]
    },
    {
      "cell_type": "markdown",
      "metadata": {
        "id": "mIiMoSSVkwMd"
      },
      "source": [
        "### 3. Create DataLoaders"
      ]
    },
    {
      "cell_type": "code",
      "execution_count": 15,
      "metadata": {
        "colab": {
          "base_uri": "https://localhost:8080/"
        },
        "id": "t7w0fMAxkyL9",
        "outputId": "a28cfd08-5ea6-483e-9693-481f00792156"
      },
      "outputs": [
        {
          "name": "stdout",
          "output_type": "stream",
          "text": [
            "Train batches: 103 Val batches: 17 Test batches: 36\n"
          ]
        }
      ],
      "source": [
        "# --- Build column index mapping once ---\n",
        "cat_cols  = ['state_id', 'crop_id']\n",
        "cont_cols = [c for c in feature_cols if c not in cat_cols]\n",
        "\n",
        "# Map feature names to indices\n",
        "col2idx = {c: i for i, c in enumerate(feature_cols)}\n",
        "cat_idx = [col2idx[c] for c in cat_cols]\n",
        "cont_idx = [col2idx[c] for c in cont_cols]\n",
        "\n",
        "# --- Helper function to extract categorical and continuous arrays ---\n",
        "def sequences_to_arrays_emb(sequences, cat_idx, cont_idx):\n",
        "    X_cat = np.stack([s['Xpast'][:, cat_idx] for s in sequences])\n",
        "    X_cont = np.stack([s['Xpast'][:, cont_idx] for s in sequences])\n",
        "    y = np.stack([s['Yfuture'] for s in sequences])\n",
        "    return X_cat, X_cont, y\n",
        "\n",
        "# Extract arrays safely\n",
        "X_train_cat, X_train_cont, y_train = sequences_to_arrays_emb(train_sequences, cat_idx, cont_idx)\n",
        "X_val_cat, X_val_cont, y_val = sequences_to_arrays_emb(val_sequences, cat_idx, cont_idx)\n",
        "X_test_cat, X_test_cont, y_test = sequences_to_arrays_emb(test_sequences, cat_idx, cont_idx)\n",
        "\n",
        "# Convert to PyTorch tensors\n",
        "X_train_cat_t = torch.tensor(X_train_cat, dtype=torch.long)\n",
        "X_train_cont_t = torch.tensor(X_train_cont, dtype=torch.float32)\n",
        "y_train_t = torch.tensor(y_train, dtype=torch.float32)\n",
        "\n",
        "X_val_cat_t = torch.tensor(X_val_cat, dtype=torch.long)\n",
        "X_val_cont_t = torch.tensor(X_val_cont, dtype=torch.float32)\n",
        "y_val_t = torch.tensor(y_val, dtype=torch.float32)\n",
        "\n",
        "X_test_cat_t = torch.tensor(X_test_cat, dtype=torch.long)\n",
        "X_test_cont_t = torch.tensor(X_test_cont, dtype=torch.float32)\n",
        "y_test_t = torch.tensor(y_test, dtype=torch.float32)\n",
        "\n",
        "# --- Create TensorDatasets ---\n",
        "train_dataset = TensorDataset(X_train_cat_t, X_train_cont_t, y_train_t)\n",
        "val_dataset   = TensorDataset(X_val_cat_t, X_val_cont_t, y_val_t)\n",
        "test_dataset  = TensorDataset(X_test_cat_t, X_test_cont_t, y_test_t)\n",
        "\n",
        "# --- Create DataLoaders ---\n",
        "train_loader = DataLoader(train_dataset, batch_size=16, shuffle=True, drop_last=True)\n",
        "val_loader   = DataLoader(val_dataset, batch_size=16, shuffle=False)\n",
        "test_loader  = DataLoader(test_dataset, batch_size=16, shuffle=False)\n",
        "\n",
        "print(\"Train batches:\", len(train_loader), \"Val batches:\", len(val_loader), \"Test batches:\", len(test_loader))"
      ]
    },
    {
      "cell_type": "markdown",
      "metadata": {
        "id": "ryHqQ4CKk0hN"
      },
      "source": [
        "### 4. Define LSTM model"
      ]
    },
    {
      "cell_type": "code",
      "execution_count": 16,
      "metadata": {
        "id": "j0_yttgvlSrk"
      },
      "outputs": [],
      "source": [
        "EPOCHS = 60\n",
        "LR = 0.0001\n",
        "DROPOUT = 0.3\n",
        "HIDDEN_DIM = 32"
      ]
    },
    {
      "cell_type": "markdown",
      "metadata": {
        "id": "GT7Og34c4LKt"
      },
      "source": [
        "The features `crop_id` and `state_id` are passed to the model as **embeddings** instead of one-hot encoding. This allows the model to understand crops and states in a higher-dimensional space."
      ]
    },
    {
      "cell_type": "code",
      "execution_count": 17,
      "metadata": {
        "id": "5GeWKmPsk3UF"
      },
      "outputs": [],
      "source": [
        "class LSTMForecastWithEmbeddings(nn.Module):\n",
        "    def __init__(self, num_states, num_crops, emb_dim,\n",
        "                 num_cont_features, hidden_dim, output_dim, num_layers, dropout):\n",
        "        super().__init__()\n",
        "\n",
        "        self.state_emb = nn.Embedding(num_states, emb_dim)\n",
        "        self.crop_emb  = nn.Embedding(num_crops, emb_dim)\n",
        "\n",
        "        # Total input dim = embedding dims + numeric features\n",
        "        input_dim = 2*emb_dim + num_cont_features\n",
        "\n",
        "        # LSTM layer\n",
        "        self.lstm = nn.LSTM(input_dim, hidden_dim, num_layers, batch_first=True, dropout=dropout)\n",
        "\n",
        "        # Output layer\n",
        "        self.fc = nn.Linear(hidden_dim, output_dim)\n",
        "\n",
        "    def forward(self, x_cat, x_cont):\n",
        "        \"\"\"\n",
        "        x_cat: (batch, T, 2) -> state_id, crop_id\n",
        "        x_cont: (batch, T, num_cont_features)\n",
        "        \"\"\"\n",
        "        # Embeddings\n",
        "        state_emb = self.state_emb(x_cat[:,:,0].long())\n",
        "        crop_emb  = self.crop_emb(x_cat[:,:,1].long())\n",
        "\n",
        "        # Concatenate embeddings with continuous features\n",
        "        x = torch.cat([state_emb, crop_emb, x_cont], dim=-1)\n",
        "\n",
        "        # LSTM\n",
        "        out, _ = self.lstm(x)\n",
        "        out = self.fc(out[:, -1, :])\n",
        "        return out\n"
      ]
    },
    {
      "cell_type": "markdown",
      "metadata": {
        "id": "o4JpRBUZk7ed"
      },
      "source": [
        "### 5. Instantiate and Train the Model"
      ]
    },
    {
      "cell_type": "markdown",
      "metadata": {
        "id": "jZNAgonj4-tb"
      },
      "source": [
        "We are using `dropout` and `learning_rate` scheduling to avoid overfitting. Finally, we also plot the training/validation loss curve."
      ]
    },
    {
      "cell_type": "code",
      "execution_count": 18,
      "metadata": {
        "colab": {
          "base_uri": "https://localhost:8080/",
          "height": 745
        },
        "id": "c0QC4Smsk-p2",
        "outputId": "9cf35230-b25f-4d75-8c6b-33eca50262b9"
      },
      "outputs": [
        {
          "name": "stdout",
          "output_type": "stream",
          "text": [
            "Epoch 1: Train Loss = 1.0199, Val Loss = 0.9149\n",
            "Epoch 5: Train Loss = 0.3160, Val Loss = 0.1901\n",
            "Epoch 10: Train Loss = 0.0918, Val Loss = 0.0860\n",
            "Epoch 15: Train Loss = 0.0560, Val Loss = 0.0726\n",
            "Epoch 20: Train Loss = 0.0432, Val Loss = 0.0629\n",
            "Epoch 25: Train Loss = 0.0358, Val Loss = 0.0568\n",
            "Epoch 30: Train Loss = 0.0311, Val Loss = 0.0555\n",
            "Epoch 35: Train Loss = 0.0296, Val Loss = 0.0538\n",
            "Epoch 40: Train Loss = 0.0278, Val Loss = 0.0527\n",
            "Epoch 45: Train Loss = 0.0279, Val Loss = 0.0537\n",
            "Epoch 50: Train Loss = 0.0260, Val Loss = 0.0530\n",
            "Epoch 55: Train Loss = 0.0275, Val Loss = 0.0522\n",
            "Epoch 60: Train Loss = 0.0261, Val Loss = 0.0527\n",
            "\n"
          ]
        },
        {
          "data": {
            "image/png": "[encoded data removed]",
            "text/plain": [
              "<Figure size 800x500 with 1 Axes>"
            ]
          },
          "metadata": {},
          "output_type": "display_data"
        }
      ],
      "source": [
        "num_states = len(state2id)\n",
        "num_crops  = len(crop2id)\n",
        "num_cont_features = len(cont_cols)\n",
        "\n",
        "model = LSTMForecastWithEmbeddings(\n",
        "    num_states=num_states,\n",
        "    num_crops=num_crops,\n",
        "    emb_dim=3,\n",
        "    num_cont_features=num_cont_features,\n",
        "    hidden_dim=HIDDEN_DIM,\n",
        "    output_dim=1,\n",
        "    num_layers=2,\n",
        "    dropout=DROPOUT\n",
        ")\n",
        "\n",
        "# --- Loss and optimizer ---\n",
        "criterion = nn.MSELoss()\n",
        "optimizer = optim.Adam(model.parameters(), lr=LR)\n",
        "scheduler = lr_scheduler.StepLR(optimizer, step_size=15, gamma=0.8)\n",
        "\n",
        "train_losses, val_losses = [], []\n",
        "\n",
        "for epoch in range(1, EPOCHS+1):\n",
        "    model.train()\n",
        "    train_loss = 0\n",
        "    for xb_cat, xb_cont, yb in train_loader:\n",
        "        optimizer.zero_grad()\n",
        "        yb = yb.view(-1, 1)\n",
        "        pred = model(xb_cat, xb_cont)\n",
        "        loss = criterion(pred, yb)\n",
        "        loss.backward()\n",
        "        optimizer.step()\n",
        "        train_loss += loss.item() * xb_cat.size(0)\n",
        "\n",
        "    train_loss /= len(train_loader.dataset)\n",
        "    train_losses.append(train_loss)\n",
        "\n",
        "    # Validation\n",
        "    model.eval()\n",
        "    val_loss = 0\n",
        "    with torch.no_grad():\n",
        "        for xb_cat, xb_cont, yb in val_loader:\n",
        "            yb = yb.view(-1, 1)\n",
        "            pred = model(xb_cat, xb_cont)\n",
        "            loss = criterion(pred, yb)\n",
        "            val_loss += loss.item() * xb_cat.size(0)\n",
        "    val_loss /= len(val_loader.dataset)\n",
        "    val_losses.append(val_loss)\n",
        "\n",
        "    if epoch % 5 == 0 or epoch == 1:\n",
        "        print(f\"Epoch {epoch}: Train Loss = {train_loss:.4f}, Val Loss = {val_loss:.4f}\")\n",
        "\n",
        "# -------------------------------\n",
        "# Plotting Loss Curve\n",
        "# -------------------------------\n",
        "print()\n",
        "plt.figure(figsize=(8,5))\n",
        "plt.plot(range(1, EPOCHS+1), train_losses, label='Train Loss')\n",
        "plt.plot(range(1, EPOCHS+1), val_losses, label='Validation Loss')\n",
        "plt.xlabel('Epoch')\n",
        "plt.ylabel('MSE Loss')\n",
        "plt.title('Train/Validation Loss Curve')\n",
        "plt.legend()\n",
        "plt.grid(True)\n",
        "plt.show()"
      ]
    },
    {
      "cell_type": "markdown",
      "metadata": {
        "id": "91t9n4hykjOS"
      },
      "source": [
        "## C. Performance Evaluation"
      ]
    },
    {
      "cell_type": "markdown",
      "metadata": {
        "id": "eGy0LVGZlDG9"
      },
      "source": [
        "### 1. Testing the Model"
      ]
    },
    {
      "cell_type": "code",
      "execution_count": 19,
      "metadata": {
        "id": "T0litDX2ktF3"
      },
      "outputs": [],
      "source": [
        "from IPython.display import display\n",
        "from sklearn.metrics import mean_absolute_error, mean_squared_error"
      ]
    },
    {
      "cell_type": "markdown",
      "metadata": {
        "id": "aCQveACc5bfG"
      },
      "source": [
        "We generate predictions from the model and perform an inverse transformation to get the values in `m^3` units. We calculate per-crop `MAE: Mean Average Error` and `RMSE: Root Mean Square Error` and overall `SMAPE: Symmetric Mean Absolute Percentage Error` to evaluate the performance of the model. This gives us a baseline to evaluate the performance of `sequence-to-sequence` models such as `TimeGPT`.\n",
        "\n",
        "We also plot the predictions of the model against actuals to visualise the performance."
      ]
    },
    {
      "cell_type": "code",
      "execution_count": 20,
      "metadata": {
        "colab": {
          "base_uri": "https://localhost:8080/",
          "height": 199
        },
        "id": "F_TQi3dhki6x",
        "outputId": "402793d8-ceff-4f70-bcfd-333b24ede482"
      },
      "outputs": [
        {
          "data": {
            "application/vnd.google.colaboratory.intrinsic+json": {
              "summary": "{\n  \"name\": \"crop_metrics_df\",\n  \"rows\": 3,\n  \"fields\": [\n    {\n      \"column\": \"Crop\",\n      \"properties\": {\n        \"dtype\": \"string\",\n        \"num_unique_values\": 3,\n        \"samples\": [\n          \"rice\",\n          \"sugarcane\",\n          \"wheat\"\n        ],\n        \"semantic_type\": \"\",\n        \"description\": \"\"\n      }\n    },\n    {\n      \"column\": \"MAE_m3\",\n      \"properties\": {\n        \"dtype\": \"number\",\n        \"std\": 1246584020.0841296,\n        \"min\": 986279296.0,\n        \"max\": 3169800192.0,\n        \"num_unique_values\": 3,\n        \"samples\": [\n          3169800192.0,\n          1035882112.0,\n          986279296.0\n        ],\n        \"semantic_type\": \"\",\n        \"description\": \"\"\n      }\n    },\n    {\n      \"column\": \"RMSE_m3\",\n      \"properties\": {\n        \"dtype\": \"number\",\n        \"std\": 2401941709.0188136,\n        \"min\": 1503858006.311198,\n        \"max\": 5727048154.889085,\n        \"num_unique_values\": 3,\n        \"samples\": [\n          5727048154.889085,\n          1632659433.4223332,\n          1503858006.311198\n        ],\n        \"semantic_type\": \"\",\n        \"description\": \"\"\n      }\n    }\n  ]\n}",
              "type": "dataframe",
              "variable_name": "crop_metrics_df"
            },
            "text/html": [
              "\n",
              "  <div id=\"df-2e2c239d-0dc5-4316-a0a8-5c723b56f46f\" class=\"colab-df-container\">\n",
              "    <div>\n",
              "<style scoped>\n",
              "    .dataframe tbody tr th:only-of-type {\n",
              "        vertical-align: middle;\n",
              "    }\n",
              "\n",
              "    .dataframe tbody tr th {\n",
              "        vertical-align: top;\n",
              "    }\n",
              "\n",
              "    .dataframe thead th {\n",
              "        text-align: right;\n",
              "    }\n",
              "</style>\n",
              "<table border=\"1\" class=\"dataframe\">\n",
              "  <thead>\n",
              "    <tr style=\"text-align: right;\">\n",
              "      <th></th>\n",
              "      <th>Crop</th>\n",
              "      <th>MAE_m3</th>\n",
              "      <th>RMSE_m3</th>\n",
              "    </tr>\n",
              "  </thead>\n",
              "  <tbody>\n",
              "    <tr>\n",
              "      <th>0</th>\n",
              "      <td>rice</td>\n",
              "      <td>3169800192.00</td>\n",
              "      <td>5727048154.89</td>\n",
              "    </tr>\n",
              "    <tr>\n",
              "      <th>1</th>\n",
              "      <td>sugarcane</td>\n",
              "      <td>1035882112.00</td>\n",
              "      <td>1632659433.42</td>\n",
              "    </tr>\n",
              "    <tr>\n",
              "      <th>2</th>\n",
              "      <td>wheat</td>\n",
              "      <td>986279296.00</td>\n",
              "      <td>1503858006.31</td>\n",
              "    </tr>\n",
              "  </tbody>\n",
              "</table>\n",
              "</div>\n",
              "    <div class=\"colab-df-buttons\">\n",
              "\n",
              "  <div class=\"colab-df-container\">\n",
              "    <button class=\"colab-df-convert\" onclick=\"convertToInteractive('df-2e2c239d-0dc5-4316-a0a8-5c723b56f46f')\"\n",
              "            title=\"Convert this dataframe to an interactive table.\"\n",
              "            style=\"display:none;\">\n",
              "\n",
              "  <svg xmlns=\"http://www.w3.org/2000/svg\" height=\"24px\" viewBox=\"0 -960 960 960\">\n",
              "    <path d=\"M120-120v-720h720v720H120Zm60-500h600v-160H180v160Zm220 220h160v-160H400v160Zm0 220h160v-160H400v160ZM180-400h160v-160H180v160Zm440 0h160v-160H620v160ZM180-180h160v-160H180v160Zm440 0h160v-160H620v160Z\"/>\n",
              "  </svg>\n",
              "    </button>\n",
              "\n",
              "  <style>\n",
              "    .colab-df-container {\n",
              "      display:flex;\n",
              "      gap: 12px;\n",
              "    }\n",
              "\n",
              "    .colab-df-convert {\n",
              "      background-color: #E8F0FE;\n",
              "      border: none;\n",
              "      border-radius: 50%;\n",
              "      cursor: pointer;\n",
              "      display: none;\n",
              "      fill: #1967D2;\n",
              "      height: 32px;\n",
              "      padding: 0 0 0 0;\n",
              "      width: 32px;\n",
              "    }\n",
              "\n",
              "    .colab-df-convert:hover {\n",
              "      background-color: #E2EBFA;\n",
              "      box-shadow: 0px 1px 2px rgba(60, 64, 67, 0.3), 0px 1px 3px 1px rgba(60, 64, 67, 0.15);\n",
              "      fill: #174EA6;\n",
              "    }\n",
              "\n",
              "    .colab-df-buttons div {\n",
              "      margin-bottom: 4px;\n",
              "    }\n",
              "\n",
              "    [theme=dark] .colab-df-convert {\n",
              "      background-color: #3B4455;\n",
              "      fill: #D2E3FC;\n",
              "    }\n",
              "\n",
              "    [theme=dark] .colab-df-convert:hover {\n",
              "      background-color: #434B5C;\n",
              "      box-shadow: 0px 1px 3px 1px rgba(0, 0, 0, 0.15);\n",
              "      filter: drop-shadow(0px 1px 2px rgba(0, 0, 0, 0.3));\n",
              "      fill: #FFFFFF;\n",
              "    }\n",
              "  </style>\n",
              "\n",
              "    <script>\n",
              "      const buttonEl =\n",
              "        document.querySelector('#df-2e2c239d-0dc5-4316-a0a8-5c723b56f46f button.colab-df-convert');\n",
              "      buttonEl.style.display =\n",
              "        google.colab.kernel.accessAllowed ? 'block' : 'none';\n",
              "\n",
              "      async function convertToInteractive(key) {\n",
              "        const element = document.querySelector('#df-2e2c239d-0dc5-4316-a0a8-5c723b56f46f');\n",
              "        const dataTable =\n",
              "          await google.colab.kernel.invokeFunction('convertToInteractive',\n",
              "                                                    [key], {});\n",
              "        if (!dataTable) return;\n",
              "\n",
              "        const docLinkHtml = 'Like what you see? Visit the ' +\n",
              "          '<a target=\"_blank\" href=https://colab.research.google.com/notebooks/data_table.ipynb>data table notebook</a>'\n",
              "          + ' to learn more about interactive tables.';\n",
              "        element.innerHTML = '';\n",
              "        dataTable['output_type'] = 'display_data';\n",
              "        await google.colab.output.renderOutput(dataTable, element);\n",
              "        const docLink = document.createElement('div');\n",
              "        docLink.innerHTML = docLinkHtml;\n",
              "        element.appendChild(docLink);\n",
              "      }\n",
              "    </script>\n",
              "  </div>\n",
              "\n",
              "\n",
              "    <div id=\"df-efb35a2f-ed0d-4951-a35f-fbe3ae606f7b\">\n",
              "      <button class=\"colab-df-quickchart\" onclick=\"quickchart('df-efb35a2f-ed0d-4951-a35f-fbe3ae606f7b')\"\n",
              "                title=\"Suggest charts\"\n",
              "                style=\"display:none;\">\n",
              "\n",
              "<svg xmlns=\"http://www.w3.org/2000/svg\" height=\"24px\"viewBox=\"0 0 24 24\"\n",
              "     width=\"24px\">\n",
              "    <g>\n",
              "        <path d=\"M19 3H5c-1.1 0-2 .9-2 2v14c0 1.1.9 2 2 2h14c1.1 0 2-.9 2-2V5c0-1.1-.9-2-2-2zM9 17H7v-7h2v7zm4 0h-2V7h2v10zm4 0h-2v-4h2v4z\"/>\n",
              "    </g>\n",
              "</svg>\n",
              "      </button>\n",
              "\n",
              "<style>\n",
              "  .colab-df-quickchart {\n",
              "      --bg-color: #E8F0FE;\n",
              "      --fill-color: #1967D2;\n",
              "      --hover-bg-color: #E2EBFA;\n",
              "      --hover-fill-color: #174EA6;\n",
              "      --disabled-fill-color: #AAA;\n",
              "      --disabled-bg-color: #DDD;\n",
              "  }\n",
              "\n",
              "  [theme=dark] .colab-df-quickchart {\n",
              "      --bg-color: #3B4455;\n",
              "      --fill-color: #D2E3FC;\n",
              "      --hover-bg-color: #434B5C;\n",
              "      --hover-fill-color: #FFFFFF;\n",
              "      --disabled-bg-color: #3B4455;\n",
              "      --disabled-fill-color: #666;\n",
              "  }\n",
              "\n",
              "  .colab-df-quickchart {\n",
              "    background-color: var(--bg-color);\n",
              "    border: none;\n",
              "    border-radius: 50%;\n",
              "    cursor: pointer;\n",
              "    display: none;\n",
              "    fill: var(--fill-color);\n",
              "    height: 32px;\n",
              "    padding: 0;\n",
              "    width: 32px;\n",
              "  }\n",
              "\n",
              "  .colab-df-quickchart:hover {\n",
              "    background-color: var(--hover-bg-color);\n",
              "    box-shadow: 0 1px 2px rgba(60, 64, 67, 0.3), 0 1px 3px 1px rgba(60, 64, 67, 0.15);\n",
              "    fill: var(--button-hover-fill-color);\n",
              "  }\n",
              "\n",
              "  .colab-df-quickchart-complete:disabled,\n",
              "  .colab-df-quickchart-complete:disabled:hover {\n",
              "    background-color: var(--disabled-bg-color);\n",
              "    fill: var(--disabled-fill-color);\n",
              "    box-shadow: none;\n",
              "  }\n",
              "\n",
              "  .colab-df-spinner {\n",
              "    border: 2px solid var(--fill-color);\n",
              "    border-color: transparent;\n",
              "    border-bottom-color: var(--fill-color);\n",
              "    animation:\n",
              "      spin 1s steps(1) infinite;\n",
              "  }\n",
              "\n",
              "  @keyframes spin {\n",
              "    0% {\n",
              "      border-color: transparent;\n",
              "      border-bottom-color: var(--fill-color);\n",
              "      border-left-color: var(--fill-color);\n",
              "    }\n",
              "    20% {\n",
              "      border-color: transparent;\n",
              "      border-left-color: var(--fill-color);\n",
              "      border-top-color: var(--fill-color);\n",
              "    }\n",
              "    30% {\n",
              "      border-color: transparent;\n",
              "      border-left-color: var(--fill-color);\n",
              "      border-top-color: var(--fill-color);\n",
              "      border-right-color: var(--fill-color);\n",
              "    }\n",
              "    40% {\n",
              "      border-color: transparent;\n",
              "      border-right-color: var(--fill-color);\n",
              "      border-top-color: var(--fill-color);\n",
              "    }\n",
              "    60% {\n",
              "      border-color: transparent;\n",
              "      border-right-color: var(--fill-color);\n",
              "    }\n",
              "    80% {\n",
              "      border-color: transparent;\n",
              "      border-right-color: var(--fill-color);\n",
              "      border-bottom-color: var(--fill-color);\n",
              "    }\n",
              "    90% {\n",
              "      border-color: transparent;\n",
              "      border-bottom-color: var(--fill-color);\n",
              "    }\n",
              "  }\n",
              "</style>\n",
              "\n",
              "      <script>\n",
              "        async function quickchart(key) {\n",
              "          const quickchartButtonEl =\n",
              "            document.querySelector('#' + key + ' button');\n",
              "          quickchartButtonEl.disabled = true;  // To prevent multiple clicks.\n",
              "          quickchartButtonEl.classList.add('colab-df-spinner');\n",
              "          try {\n",
              "            const charts = await google.colab.kernel.invokeFunction(\n",
              "                'suggestCharts', [key], {});\n",
              "          } catch (error) {\n",
              "            console.error('Error during call to suggestCharts:', error);\n",
              "          }\n",
              "          quickchartButtonEl.classList.remove('colab-df-spinner');\n",
              "          quickchartButtonEl.classList.add('colab-df-quickchart-complete');\n",
              "        }\n",
              "        (() => {\n",
              "          let quickchartButtonEl =\n",
              "            document.querySelector('#df-efb35a2f-ed0d-4951-a35f-fbe3ae606f7b button');\n",
              "          quickchartButtonEl.style.display =\n",
              "            google.colab.kernel.accessAllowed ? 'block' : 'none';\n",
              "        })();\n",
              "      </script>\n",
              "    </div>\n",
              "\n",
              "  <div id=\"id_dfa7541e-18b9-4658-89f7-444240c84eb9\">\n",
              "    <style>\n",
              "      .colab-df-generate {\n",
              "        background-color: #E8F0FE;\n",
              "        border: none;\n",
              "        border-radius: 50%;\n",
              "        cursor: pointer;\n",
              "        display: none;\n",
              "        fill: #1967D2;\n",
              "        height: 32px;\n",
              "        padding: 0 0 0 0;\n",
              "        width: 32px;\n",
              "      }\n",
              "\n",
              "      .colab-df-generate:hover {\n",
              "        background-color: #E2EBFA;\n",
              "        box-shadow: 0px 1px 2px rgba(60, 64, 67, 0.3), 0px 1px 3px 1px rgba(60, 64, 67, 0.15);\n",
              "        fill: #174EA6;\n",
              "      }\n",
              "\n",
              "      [theme=dark] .colab-df-generate {\n",
              "        background-color: #3B4455;\n",
              "        fill: #D2E3FC;\n",
              "      }\n",
              "\n",
              "      [theme=dark] .colab-df-generate:hover {\n",
              "        background-color: #434B5C;\n",
              "        box-shadow: 0px 1px 3px 1px rgba(0, 0, 0, 0.15);\n",
              "        filter: drop-shadow(0px 1px 2px rgba(0, 0, 0, 0.3));\n",
              "        fill: #FFFFFF;\n",
              "      }\n",
              "    </style>\n",
              "    <button class=\"colab-df-generate\" onclick=\"generateWithVariable('crop_metrics_df')\"\n",
              "            title=\"Generate code using this dataframe.\"\n",
              "            style=\"display:none;\">\n",
              "\n",
              "  <svg xmlns=\"http://www.w3.org/2000/svg\" height=\"24px\"viewBox=\"0 0 24 24\"\n",
              "       width=\"24px\">\n",
              "    <path d=\"M7,19H8.4L18.45,9,17,7.55,7,17.6ZM5,21V16.75L18.45,3.32a2,2,0,0,1,2.83,0l1.4,1.43a1.91,1.91,0,0,1,.58,1.4,1.91,1.91,0,0,1-.58,1.4L9.25,21ZM18.45,9,17,7.55Zm-12,3A5.31,5.31,0,0,0,4.9,8.1,5.31,5.31,0,0,0,1,6.5,5.31,5.31,0,0,0,4.9,4.9,5.31,5.31,0,0,0,6.5,1,5.31,5.31,0,0,0,8.1,4.9,5.31,5.31,0,0,0,12,6.5,5.46,5.46,0,0,0,6.5,12Z\"/>\n",
              "  </svg>\n",
              "    </button>\n",
              "    <script>\n",
              "      (() => {\n",
              "      const buttonEl =\n",
              "        document.querySelector('#id_dfa7541e-18b9-4658-89f7-444240c84eb9 button.colab-df-generate');\n",
              "      buttonEl.style.display =\n",
              "        google.colab.kernel.accessAllowed ? 'block' : 'none';\n",
              "\n",
              "      buttonEl.onclick = () => {\n",
              "        google.colab.notebook.generateWithVariable('crop_metrics_df');\n",
              "      }\n",
              "      })();\n",
              "    </script>\n",
              "  </div>\n",
              "\n",
              "    </div>\n",
              "  </div>\n"
            ],
            "text/plain": [
              "        Crop        MAE_m3       RMSE_m3\n",
              "0       rice 3169800192.00 5727048154.89\n",
              "1  sugarcane 1035882112.00 1632659433.42\n",
              "2      wheat  986279296.00 1503858006.31"
            ]
          },
          "metadata": {},
          "output_type": "display_data"
        },
        {
          "name": "stdout",
          "output_type": "stream",
          "text": [
            "\n",
            "\n",
            "SMAPE:  46.9906%\n"
          ]
        }
      ],
      "source": [
        "all_preds, all_targets, all_crops = [], [], []\n",
        "\n",
        "model.eval()\n",
        "with torch.no_grad():\n",
        "    for xb_cat, xb_cont, yb in test_loader:\n",
        "        yb = yb.view(-1, 1)\n",
        "        pred = model(xb_cat, xb_cont)\n",
        "\n",
        "        # Collect categorical info\n",
        "        crop_ids = xb_cat[:, -1, 1].cpu().numpy()\n",
        "        all_crops.append(crop_ids)\n",
        "\n",
        "        all_preds.append(pred.cpu().numpy())\n",
        "        all_targets.append(yb.cpu().numpy())\n",
        "\n",
        "all_preds = np.concatenate(all_preds, axis=0)\n",
        "all_targets = np.concatenate(all_targets, axis=0)\n",
        "all_crops = np.concatenate(all_crops, axis=0)\n",
        "\n",
        "# Inverse transform predictions and targets to original units\n",
        "pred_real = target_scaler.inverse_transform(all_preds).ravel()\n",
        "targets_real = target_scaler.inverse_transform(all_targets).ravel()\n",
        "\n",
        "# Calculate SMAPE\n",
        "smape = 100 * np.mean(2 * np.abs(pred_real - targets_real) / (np.abs(pred_real) + np.abs(targets_real)))\n",
        "\n",
        "# Compute MAE and RMSE per crop\n",
        "results = []\n",
        "for crop_id, crop_name in crop2id.items():\n",
        "    mask = all_crops == crop_name\n",
        "    if np.sum(mask) == 0:\n",
        "        continue\n",
        "    crop_mae = mean_absolute_error(targets_real[mask], pred_real[mask])\n",
        "    crop_rmse = np.sqrt(mean_squared_error(targets_real[mask], pred_real[mask]))\n",
        "    results.append((crop_id, crop_mae, crop_rmse))\n",
        "\n",
        "crop_metrics_df = pd.DataFrame(results, columns=['Crop', 'MAE_m3', 'RMSE_m3'])\n",
        "pd.set_option('display.float_format', lambda x: '%.2f' % x)\n",
        "display(crop_metrics_df)\n",
        "print(f\"\\n\\nSMAPE: {smape: .4f}%\")\n"
      ]
    },
    {
      "cell_type": "markdown",
      "metadata": {
        "id": "AniRHteBk6jE"
      },
      "source": [
        "### 2. Plot Model Predictions"
      ]
    },
    {
      "cell_type": "code",
      "execution_count": 21,
      "metadata": {
        "colab": {
          "base_uri": "https://localhost:8080/",
          "height": 718
        },
        "id": "ZbkRn6tqk6FO",
        "outputId": "4f9e110a-a641-4fd4-a86c-bef25af1c594"
      },
      "outputs": [
        {
          "data": {
            "image/png": "[encoded data removed]",
            "text/plain": [
              "<Figure size 1800x800 with 1 Axes>"
            ]
          },
          "metadata": {},
          "output_type": "display_data"
        }
      ],
      "source": [
        "plt.figure(figsize=(18,8))\n",
        "plt.plot(targets_real, label='True')\n",
        "plt.plot(pred_real, label='Predicted')\n",
        "plt.xlabel('Sample')\n",
        "plt.ylabel('Water Demand (m³)')\n",
        "plt.title('Predicted vs True Water Demand on Test Set')\n",
        "plt.legend()\n",
        "plt.grid(True)\n",
        "plt.show()"
      ]
    },
    {
      "cell_type": "markdown",
      "metadata": {
        "id": "YgMqnO6Hk_zO"
      },
      "source": [
        "### 3. Simulate Drought and obtain Model Predictions"
      ]
    },
    {
      "cell_type": "code",
      "execution_count": 22,
      "metadata": {
        "id": "faHcRRq1lEAZ"
      },
      "outputs": [],
      "source": [
        "RAINFALL_FACTOR = 0.7"
      ]
    },
    {
      "cell_type": "code",
      "execution_count": 23,
      "metadata": {
        "id": "fuK3fsJqll_x"
      },
      "outputs": [],
      "source": [
        "from torch.utils.data import DataLoader, TensorDataset\n",
        "\n",
        "test_dataset  = TensorDataset(X_test_cat_t, X_test_cont_t, y_test_t)\n",
        "test_loader_random = DataLoader(test_dataset, batch_size=16, shuffle=True)\n",
        "sim_X_cat, sim_X_cont, sim_y = next(iter(test_loader_random))\n"
      ]
    },
    {
      "cell_type": "code",
      "execution_count": 24,
      "metadata": {
        "colab": {
          "base_uri": "https://localhost:8080/",
          "height": 569
        },
        "id": "0GA3_FHJbqe-",
        "outputId": "cc149738-27d2-4c75-af0a-d03b5729a8ad"
      },
      "outputs": [
        {
          "name": "stdout",
          "output_type": "stream",
          "text": [
            "All absolute values in 1e9 m^3\n"
          ]
        },
        {
          "data": {
            "application/vnd.google.colaboratory.intrinsic+json": {
              "summary": "{\n  \"name\": \"df_results\",\n  \"rows\": 16,\n  \"fields\": [\n    {\n      \"column\": \"State\",\n      \"properties\": {\n        \"dtype\": \"string\",\n        \"num_unique_values\": 12,\n        \"samples\": [\n          \"Andhra Pradesh\",\n          \"Uttarakhand\",\n          \"Madhya Pradesh\"\n        ],\n        \"semantic_type\": \"\",\n        \"description\": \"\"\n      }\n    },\n    {\n      \"column\": \"Crop\",\n      \"properties\": {\n        \"dtype\": \"category\",\n        \"num_unique_values\": 3,\n        \"samples\": [\n          \"wheat\",\n          \"sugarcane\",\n          \"rice\"\n        ],\n        \"semantic_type\": \"\",\n        \"description\": \"\"\n      }\n    },\n    {\n      \"column\": \"Baseline\",\n      \"properties\": {\n        \"dtype\": \"float32\",\n        \"num_unique_values\": 16,\n        \"samples\": [\n          20.711393356323242,\n          0.6997278928756714,\n          3.515794515609741\n        ],\n        \"semantic_type\": \"\",\n        \"description\": \"\"\n      }\n    },\n    {\n      \"column\": \"Prediction\",\n      \"properties\": {\n        \"dtype\": \"float32\",\n        \"num_unique_values\": 16,\n        \"samples\": [\n          21.29915428161621,\n          1.154482126235962,\n          3.9803781509399414\n        ],\n        \"semantic_type\": \"\",\n        \"description\": \"\"\n      }\n    },\n    {\n      \"column\": \"Impact\",\n      \"properties\": {\n        \"dtype\": \"float32\",\n        \"num_unique_values\": 16,\n        \"samples\": [\n          0.587761640548706,\n          0.4547542929649353,\n          0.4645836651325226\n        ],\n        \"semantic_type\": \"\",\n        \"description\": \"\"\n      }\n    },\n    {\n      \"column\": \"Change (%)\",\n      \"properties\": {\n        \"dtype\": \"float32\",\n        \"num_unique_values\": 16,\n        \"samples\": [\n          2.8378663063049316,\n          64.99016571044922,\n          13.214187622070312\n        ],\n        \"semantic_type\": \"\",\n        \"description\": \"\"\n      }\n    }\n  ]\n}",
              "type": "dataframe",
              "variable_name": "df_results"
            },
            "text/html": [
              "\n",
              "  <div id=\"df-8c4825f0-5675-477d-b0e0-9abb438ba2f3\" class=\"colab-df-container\">\n",
              "    <div>\n",
              "<style scoped>\n",
              "    .dataframe tbody tr th:only-of-type {\n",
              "        vertical-align: middle;\n",
              "    }\n",
              "\n",
              "    .dataframe tbody tr th {\n",
              "        vertical-align: top;\n",
              "    }\n",
              "\n",
              "    .dataframe thead th {\n",
              "        text-align: right;\n",
              "    }\n",
              "</style>\n",
              "<table border=\"1\" class=\"dataframe\">\n",
              "  <thead>\n",
              "    <tr style=\"text-align: right;\">\n",
              "      <th></th>\n",
              "      <th>State</th>\n",
              "      <th>Crop</th>\n",
              "      <th>Baseline</th>\n",
              "      <th>Prediction</th>\n",
              "      <th>Impact</th>\n",
              "      <th>Change (%)</th>\n",
              "    </tr>\n",
              "  </thead>\n",
              "  <tbody>\n",
              "    <tr>\n",
              "      <th>0</th>\n",
              "      <td>Madhya Pradesh</td>\n",
              "      <td>wheat</td>\n",
              "      <td>20.711</td>\n",
              "      <td>21.299</td>\n",
              "      <td>0.588</td>\n",
              "      <td>2.838</td>\n",
              "    </tr>\n",
              "    <tr>\n",
              "      <th>1</th>\n",
              "      <td>Rajasthan</td>\n",
              "      <td>sugarcane</td>\n",
              "      <td>0.700</td>\n",
              "      <td>1.154</td>\n",
              "      <td>0.455</td>\n",
              "      <td>64.990</td>\n",
              "    </tr>\n",
              "    <tr>\n",
              "      <th>2</th>\n",
              "      <td>West Bengal</td>\n",
              "      <td>wheat</td>\n",
              "      <td>1.111</td>\n",
              "      <td>1.479</td>\n",
              "      <td>0.369</td>\n",
              "      <td>33.190</td>\n",
              "    </tr>\n",
              "    <tr>\n",
              "      <th>3</th>\n",
              "      <td>Punjab</td>\n",
              "      <td>rice</td>\n",
              "      <td>27.612</td>\n",
              "      <td>28.490</td>\n",
              "      <td>0.878</td>\n",
              "      <td>3.180</td>\n",
              "    </tr>\n",
              "    <tr>\n",
              "      <th>4</th>\n",
              "      <td>Uttar Pradesh</td>\n",
              "      <td>wheat</td>\n",
              "      <td>45.900</td>\n",
              "      <td>46.633</td>\n",
              "      <td>0.732</td>\n",
              "      <td>1.595</td>\n",
              "    </tr>\n",
              "    <tr>\n",
              "      <th>5</th>\n",
              "      <td>Maharashtra</td>\n",
              "      <td>wheat</td>\n",
              "      <td>3.516</td>\n",
              "      <td>3.980</td>\n",
              "      <td>0.465</td>\n",
              "      <td>13.214</td>\n",
              "    </tr>\n",
              "    <tr>\n",
              "      <th>6</th>\n",
              "      <td>Gujarat</td>\n",
              "      <td>wheat</td>\n",
              "      <td>3.318</td>\n",
              "      <td>3.782</td>\n",
              "      <td>0.463</td>\n",
              "      <td>13.954</td>\n",
              "    </tr>\n",
              "    <tr>\n",
              "      <th>7</th>\n",
              "      <td>Haryana</td>\n",
              "      <td>sugarcane</td>\n",
              "      <td>2.081</td>\n",
              "      <td>2.473</td>\n",
              "      <td>0.392</td>\n",
              "      <td>18.812</td>\n",
              "    </tr>\n",
              "    <tr>\n",
              "      <th>8</th>\n",
              "      <td>Kerala</td>\n",
              "      <td>rice</td>\n",
              "      <td>7.276</td>\n",
              "      <td>8.727</td>\n",
              "      <td>1.450</td>\n",
              "      <td>19.931</td>\n",
              "    </tr>\n",
              "    <tr>\n",
              "      <th>9</th>\n",
              "      <td>West Bengal</td>\n",
              "      <td>wheat</td>\n",
              "      <td>1.101</td>\n",
              "      <td>1.573</td>\n",
              "      <td>0.472</td>\n",
              "      <td>42.894</td>\n",
              "    </tr>\n",
              "    <tr>\n",
              "      <th>10</th>\n",
              "      <td>Uttarakhand</td>\n",
              "      <td>rice</td>\n",
              "      <td>5.435</td>\n",
              "      <td>5.022</td>\n",
              "      <td>-0.413</td>\n",
              "      <td>-7.605</td>\n",
              "    </tr>\n",
              "    <tr>\n",
              "      <th>11</th>\n",
              "      <td>Andhra Pradesh</td>\n",
              "      <td>rice</td>\n",
              "      <td>42.256</td>\n",
              "      <td>42.937</td>\n",
              "      <td>0.681</td>\n",
              "      <td>1.611</td>\n",
              "    </tr>\n",
              "    <tr>\n",
              "      <th>12</th>\n",
              "      <td>Punjab</td>\n",
              "      <td>sugarcane</td>\n",
              "      <td>1.891</td>\n",
              "      <td>2.606</td>\n",
              "      <td>0.715</td>\n",
              "      <td>37.782</td>\n",
              "    </tr>\n",
              "    <tr>\n",
              "      <th>13</th>\n",
              "      <td>Pondicherry</td>\n",
              "      <td>rice</td>\n",
              "      <td>1.315</td>\n",
              "      <td>2.192</td>\n",
              "      <td>0.877</td>\n",
              "      <td>66.669</td>\n",
              "    </tr>\n",
              "    <tr>\n",
              "      <th>14</th>\n",
              "      <td>Maharashtra</td>\n",
              "      <td>sugarcane</td>\n",
              "      <td>5.023</td>\n",
              "      <td>5.896</td>\n",
              "      <td>0.874</td>\n",
              "      <td>17.394</td>\n",
              "    </tr>\n",
              "    <tr>\n",
              "      <th>15</th>\n",
              "      <td>Punjab</td>\n",
              "      <td>wheat</td>\n",
              "      <td>17.319</td>\n",
              "      <td>17.569</td>\n",
              "      <td>0.249</td>\n",
              "      <td>1.439</td>\n",
              "    </tr>\n",
              "  </tbody>\n",
              "</table>\n",
              "</div>\n",
              "    <div class=\"colab-df-buttons\">\n",
              "\n",
              "  <div class=\"colab-df-container\">\n",
              "    <button class=\"colab-df-convert\" onclick=\"convertToInteractive('df-8c4825f0-5675-477d-b0e0-9abb438ba2f3')\"\n",
              "            title=\"Convert this dataframe to an interactive table.\"\n",
              "            style=\"display:none;\">\n",
              "\n",
              "  <svg xmlns=\"http://www.w3.org/2000/svg\" height=\"24px\" viewBox=\"0 -960 960 960\">\n",
              "    <path d=\"M120-120v-720h720v720H120Zm60-500h600v-160H180v160Zm220 220h160v-160H400v160Zm0 220h160v-160H400v160ZM180-400h160v-160H180v160Zm440 0h160v-160H620v160ZM180-180h160v-160H180v160Zm440 0h160v-160H620v160Z\"/>\n",
              "  </svg>\n",
              "    </button>\n",
              "\n",
              "  <style>\n",
              "    .colab-df-container {\n",
              "      display:flex;\n",
              "      gap: 12px;\n",
              "    }\n",
              "\n",
              "    .colab-df-convert {\n",
              "      background-color: #E8F0FE;\n",
              "      border: none;\n",
              "      border-radius: 50%;\n",
              "      cursor: pointer;\n",
              "      display: none;\n",
              "      fill: #1967D2;\n",
              "      height: 32px;\n",
              "      padding: 0 0 0 0;\n",
              "      width: 32px;\n",
              "    }\n",
              "\n",
              "    .colab-df-convert:hover {\n",
              "      background-color: #E2EBFA;\n",
              "      box-shadow: 0px 1px 2px rgba(60, 64, 67, 0.3), 0px 1px 3px 1px rgba(60, 64, 67, 0.15);\n",
              "      fill: #174EA6;\n",
              "    }\n",
              "\n",
              "    .colab-df-buttons div {\n",
              "      margin-bottom: 4px;\n",
              "    }\n",
              "\n",
              "    [theme=dark] .colab-df-convert {\n",
              "      background-color: #3B4455;\n",
              "      fill: #D2E3FC;\n",
              "    }\n",
              "\n",
              "    [theme=dark] .colab-df-convert:hover {\n",
              "      background-color: #434B5C;\n",
              "      box-shadow: 0px 1px 3px 1px rgba(0, 0, 0, 0.15);\n",
              "      filter: drop-shadow(0px 1px 2px rgba(0, 0, 0, 0.3));\n",
              "      fill: #FFFFFF;\n",
              "    }\n",
              "  </style>\n",
              "\n",
              "    <script>\n",
              "      const buttonEl =\n",
              "        document.querySelector('#df-8c4825f0-5675-477d-b0e0-9abb438ba2f3 button.colab-df-convert');\n",
              "      buttonEl.style.display =\n",
              "        google.colab.kernel.accessAllowed ? 'block' : 'none';\n",
              "\n",
              "      async function convertToInteractive(key) {\n",
              "        const element = document.querySelector('#df-8c4825f0-5675-477d-b0e0-9abb438ba2f3');\n",
              "        const dataTable =\n",
              "          await google.colab.kernel.invokeFunction('convertToInteractive',\n",
              "                                                    [key], {});\n",
              "        if (!dataTable) return;\n",
              "\n",
              "        const docLinkHtml = 'Like what you see? Visit the ' +\n",
              "          '<a target=\"_blank\" href=https://colab.research.google.com/notebooks/data_table.ipynb>data table notebook</a>'\n",
              "          + ' to learn more about interactive tables.';\n",
              "        element.innerHTML = '';\n",
              "        dataTable['output_type'] = 'display_data';\n",
              "        await google.colab.output.renderOutput(dataTable, element);\n",
              "        const docLink = document.createElement('div');\n",
              "        docLink.innerHTML = docLinkHtml;\n",
              "        element.appendChild(docLink);\n",
              "      }\n",
              "    </script>\n",
              "  </div>\n",
              "\n",
              "\n",
              "    <div id=\"df-84fcb967-55bb-4ac3-910f-d46b74f5e783\">\n",
              "      <button class=\"colab-df-quickchart\" onclick=\"quickchart('df-84fcb967-55bb-4ac3-910f-d46b74f5e783')\"\n",
              "                title=\"Suggest charts\"\n",
              "                style=\"display:none;\">\n",
              "\n",
              "<svg xmlns=\"http://www.w3.org/2000/svg\" height=\"24px\"viewBox=\"0 0 24 24\"\n",
              "     width=\"24px\">\n",
              "    <g>\n",
              "        <path d=\"M19 3H5c-1.1 0-2 .9-2 2v14c0 1.1.9 2 2 2h14c1.1 0 2-.9 2-2V5c0-1.1-.9-2-2-2zM9 17H7v-7h2v7zm4 0h-2V7h2v10zm4 0h-2v-4h2v4z\"/>\n",
              "    </g>\n",
              "</svg>\n",
              "      </button>\n",
              "\n",
              "<style>\n",
              "  .colab-df-quickchart {\n",
              "      --bg-color: #E8F0FE;\n",
              "      --fill-color: #1967D2;\n",
              "      --hover-bg-color: #E2EBFA;\n",
              "      --hover-fill-color: #174EA6;\n",
              "      --disabled-fill-color: #AAA;\n",
              "      --disabled-bg-color: #DDD;\n",
              "  }\n",
              "\n",
              "  [theme=dark] .colab-df-quickchart {\n",
              "      --bg-color: #3B4455;\n",
              "      --fill-color: #D2E3FC;\n",
              "      --hover-bg-color: #434B5C;\n",
              "      --hover-fill-color: #FFFFFF;\n",
              "      --disabled-bg-color: #3B4455;\n",
              "      --disabled-fill-color: #666;\n",
              "  }\n",
              "\n",
              "  .colab-df-quickchart {\n",
              "    background-color: var(--bg-color);\n",
              "    border: none;\n",
              "    border-radius: 50%;\n",
              "    cursor: pointer;\n",
              "    display: none;\n",
              "    fill: var(--fill-color);\n",
              "    height: 32px;\n",
              "    padding: 0;\n",
              "    width: 32px;\n",
              "  }\n",
              "\n",
              "  .colab-df-quickchart:hover {\n",
              "    background-color: var(--hover-bg-color);\n",
              "    box-shadow: 0 1px 2px rgba(60, 64, 67, 0.3), 0 1px 3px 1px rgba(60, 64, 67, 0.15);\n",
              "    fill: var(--button-hover-fill-color);\n",
              "  }\n",
              "\n",
              "  .colab-df-quickchart-complete:disabled,\n",
              "  .colab-df-quickchart-complete:disabled:hover {\n",
              "    background-color: var(--disabled-bg-color);\n",
              "    fill: var(--disabled-fill-color);\n",
              "    box-shadow: none;\n",
              "  }\n",
              "\n",
              "  .colab-df-spinner {\n",
              "    border: 2px solid var(--fill-color);\n",
              "    border-color: transparent;\n",
              "    border-bottom-color: var(--fill-color);\n",
              "    animation:\n",
              "      spin 1s steps(1) infinite;\n",
              "  }\n",
              "\n",
              "  @keyframes spin {\n",
              "    0% {\n",
              "      border-color: transparent;\n",
              "      border-bottom-color: var(--fill-color);\n",
              "      border-left-color: var(--fill-color);\n",
              "    }\n",
              "    20% {\n",
              "      border-color: transparent;\n",
              "      border-left-color: var(--fill-color);\n",
              "      border-top-color: var(--fill-color);\n",
              "    }\n",
              "    30% {\n",
              "      border-color: transparent;\n",
              "      border-left-color: var(--fill-color);\n",
              "      border-top-color: var(--fill-color);\n",
              "      border-right-color: var(--fill-color);\n",
              "    }\n",
              "    40% {\n",
              "      border-color: transparent;\n",
              "      border-right-color: var(--fill-color);\n",
              "      border-top-color: var(--fill-color);\n",
              "    }\n",
              "    60% {\n",
              "      border-color: transparent;\n",
              "      border-right-color: var(--fill-color);\n",
              "    }\n",
              "    80% {\n",
              "      border-color: transparent;\n",
              "      border-right-color: var(--fill-color);\n",
              "      border-bottom-color: var(--fill-color);\n",
              "    }\n",
              "    90% {\n",
              "      border-color: transparent;\n",
              "      border-bottom-color: var(--fill-color);\n",
              "    }\n",
              "  }\n",
              "</style>\n",
              "\n",
              "      <script>\n",
              "        async function quickchart(key) {\n",
              "          const quickchartButtonEl =\n",
              "            document.querySelector('#' + key + ' button');\n",
              "          quickchartButtonEl.disabled = true;  // To prevent multiple clicks.\n",
              "          quickchartButtonEl.classList.add('colab-df-spinner');\n",
              "          try {\n",
              "            const charts = await google.colab.kernel.invokeFunction(\n",
              "                'suggestCharts', [key], {});\n",
              "          } catch (error) {\n",
              "            console.error('Error during call to suggestCharts:', error);\n",
              "          }\n",
              "          quickchartButtonEl.classList.remove('colab-df-spinner');\n",
              "          quickchartButtonEl.classList.add('colab-df-quickchart-complete');\n",
              "        }\n",
              "        (() => {\n",
              "          let quickchartButtonEl =\n",
              "            document.querySelector('#df-84fcb967-55bb-4ac3-910f-d46b74f5e783 button');\n",
              "          quickchartButtonEl.style.display =\n",
              "            google.colab.kernel.accessAllowed ? 'block' : 'none';\n",
              "        })();\n",
              "      </script>\n",
              "    </div>\n",
              "\n",
              "  <div id=\"id_98757b31-ca62-43f8-be0b-df630234e995\">\n",
              "    <style>\n",
              "      .colab-df-generate {\n",
              "        background-color: #E8F0FE;\n",
              "        border: none;\n",
              "        border-radius: 50%;\n",
              "        cursor: pointer;\n",
              "        display: none;\n",
              "        fill: #1967D2;\n",
              "        height: 32px;\n",
              "        padding: 0 0 0 0;\n",
              "        width: 32px;\n",
              "      }\n",
              "\n",
              "      .colab-df-generate:hover {\n",
              "        background-color: #E2EBFA;\n",
              "        box-shadow: 0px 1px 2px rgba(60, 64, 67, 0.3), 0px 1px 3px 1px rgba(60, 64, 67, 0.15);\n",
              "        fill: #174EA6;\n",
              "      }\n",
              "\n",
              "      [theme=dark] .colab-df-generate {\n",
              "        background-color: #3B4455;\n",
              "        fill: #D2E3FC;\n",
              "      }\n",
              "\n",
              "      [theme=dark] .colab-df-generate:hover {\n",
              "        background-color: #434B5C;\n",
              "        box-shadow: 0px 1px 3px 1px rgba(0, 0, 0, 0.15);\n",
              "        filter: drop-shadow(0px 1px 2px rgba(0, 0, 0, 0.3));\n",
              "        fill: #FFFFFF;\n",
              "      }\n",
              "    </style>\n",
              "    <button class=\"colab-df-generate\" onclick=\"generateWithVariable('df_results')\"\n",
              "            title=\"Generate code using this dataframe.\"\n",
              "            style=\"display:none;\">\n",
              "\n",
              "  <svg xmlns=\"http://www.w3.org/2000/svg\" height=\"24px\"viewBox=\"0 0 24 24\"\n",
              "       width=\"24px\">\n",
              "    <path d=\"M7,19H8.4L18.45,9,17,7.55,7,17.6ZM5,21V16.75L18.45,3.32a2,2,0,0,1,2.83,0l1.4,1.43a1.91,1.91,0,0,1,.58,1.4,1.91,1.91,0,0,1-.58,1.4L9.25,21ZM18.45,9,17,7.55Zm-12,3A5.31,5.31,0,0,0,4.9,8.1,5.31,5.31,0,0,0,1,6.5,5.31,5.31,0,0,0,4.9,4.9,5.31,5.31,0,0,0,6.5,1,5.31,5.31,0,0,0,8.1,4.9,5.31,5.31,0,0,0,12,6.5,5.46,5.46,0,0,0,6.5,12Z\"/>\n",
              "  </svg>\n",
              "    </button>\n",
              "    <script>\n",
              "      (() => {\n",
              "      const buttonEl =\n",
              "        document.querySelector('#id_98757b31-ca62-43f8-be0b-df630234e995 button.colab-df-generate');\n",
              "      buttonEl.style.display =\n",
              "        google.colab.kernel.accessAllowed ? 'block' : 'none';\n",
              "\n",
              "      buttonEl.onclick = () => {\n",
              "        google.colab.notebook.generateWithVariable('df_results');\n",
              "      }\n",
              "      })();\n",
              "    </script>\n",
              "  </div>\n",
              "\n",
              "    </div>\n",
              "  </div>\n"
            ],
            "text/plain": [
              "             State       Crop  Baseline  Prediction  Impact  Change (%)\n",
              "0   Madhya Pradesh      wheat    20.711      21.299   0.588       2.838\n",
              "1        Rajasthan  sugarcane     0.700       1.154   0.455      64.990\n",
              "2      West Bengal      wheat     1.111       1.479   0.369      33.190\n",
              "3           Punjab       rice    27.612      28.490   0.878       3.180\n",
              "4    Uttar Pradesh      wheat    45.900      46.633   0.732       1.595\n",
              "5      Maharashtra      wheat     3.516       3.980   0.465      13.214\n",
              "6          Gujarat      wheat     3.318       3.782   0.463      13.954\n",
              "7          Haryana  sugarcane     2.081       2.473   0.392      18.812\n",
              "8           Kerala       rice     7.276       8.727   1.450      19.931\n",
              "9      West Bengal      wheat     1.101       1.573   0.472      42.894\n",
              "10     Uttarakhand       rice     5.435       5.022  -0.413      -7.605\n",
              "11  Andhra Pradesh       rice    42.256      42.937   0.681       1.611\n",
              "12          Punjab  sugarcane     1.891       2.606   0.715      37.782\n",
              "13     Pondicherry       rice     1.315       2.192   0.877      66.669\n",
              "14     Maharashtra  sugarcane     5.023       5.896   0.874      17.394\n",
              "15          Punjab      wheat    17.319      17.569   0.249       1.439"
            ]
          },
          "metadata": {},
          "output_type": "display_data"
        }
      ],
      "source": [
        "sim_X_cat, sim_X_cont, sim_y = next(iter(test_loader_random))\n",
        "\n",
        "# --- Baseline prediction (normal rainfall) ---\n",
        "model.eval()\n",
        "with torch.no_grad():\n",
        "    pred_baseline = model(sim_X_cat, sim_X_cont)\n",
        "\n",
        "# --- Simulate drought by reducing rainfall ---\n",
        "sim_X_cont_drought = sim_X_cont.clone()\n",
        "\n",
        "rain_idx   = cont_cols.index('actual_rainfall_mm')\n",
        "normal_idx = cont_cols.index('normal_rainfall_mm')\n",
        "anom_idx   = cont_cols.index('rainfall_anomaly_mm')\n",
        "flag_idx   = cont_cols.index('drought_flag')\n",
        "\n",
        "# Apply drought factor\n",
        "sim_X_cont_drought[:, :, rain_idx] *= RAINFALL_FACTOR\n",
        "\n",
        "# Recompute anomaly (actual - normal)\n",
        "sim_X_cont_drought[:, :, anom_idx] = (\n",
        "    sim_X_cont_drought[:, :, rain_idx] - sim_X_cont_drought[:, :, normal_idx]\n",
        ")\n",
        "\n",
        "# Set drought flag\n",
        "sim_X_cont_drought[:, :, flag_idx] = 1.0\n",
        "\n",
        "\n",
        "# --- Drought prediction ---\n",
        "with torch.no_grad():\n",
        "    pred_drought = model(sim_X_cat, sim_X_cont_drought)\n",
        "\n",
        "# --- Inverse transform predictions ---\n",
        "pred_baseline_real = target_scaler.inverse_transform(pred_baseline.cpu().numpy()).ravel()\n",
        "pred_drought_real = target_scaler.inverse_transform(pred_drought.cpu().numpy()).ravel()\n",
        "\n",
        "# --- Compute impact ---\n",
        "impact = pred_drought_real - pred_baseline_real\n",
        "percent_change = (impact / pred_baseline_real) * 100\n",
        "\n",
        "# --- Inverse mapping dictionaries ---\n",
        "id2state = {v: k for k, v in state2id.items()}\n",
        "id2crop  = {v: k for k, v in crop2id.items()}\n",
        "\n",
        "# --- Print results with crop and state names ---\n",
        "results_table = []\n",
        "\n",
        "for i in range(len(pred_baseline_real)):\n",
        "    state_name = id2state[int(sim_X_cat[i, 0, 0])]\n",
        "    crop_name  = id2crop[int(sim_X_cat[i, 0, 1])]\n",
        "\n",
        "    results_table.append({\n",
        "        \"State\": state_name,\n",
        "        \"Crop\": crop_name,\n",
        "        \"Baseline\": pred_baseline_real[i] / 1e9,\n",
        "        \"Prediction\": pred_drought_real[i] / 1e9,\n",
        "        \"Impact\": impact[i] / 1e9,\n",
        "        \"Change (%)\": percent_change[i]\n",
        "    })\n",
        "\n",
        "df_results = pd.DataFrame(results_table)\n",
        "\n",
        "pd.set_option(\"display.float_format\", \"{:.3f}\".format)\n",
        "print(\"All absolute values in 1e9 m^3\")\n",
        "display(df_results)\n"
      ]
    }
  ],
  "metadata": {
    "colab": {
      "provenance": []
    },
    "kernelspec": {
      "display_name": "Python 3",
      "name": "python3"
    },
    "language_info": {
      "name": "python"
    }
  },
  "nbformat": 4,
  "nbformat_minor": 0
}
